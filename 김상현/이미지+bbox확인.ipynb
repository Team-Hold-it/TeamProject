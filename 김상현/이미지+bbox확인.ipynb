{
 "cells": [
  {
   "attachments": {},
   "cell_type": "markdown",
   "metadata": {},
   "source": [
    "# 이미지 파일 + BoundingBox 시각화 코드\n"
   ]
  },
  {
   "cell_type": "code",
   "execution_count": 1,
   "metadata": {},
   "outputs": [
    {
     "ename": "KeyboardInterrupt",
     "evalue": "",
     "output_type": "error",
     "traceback": [
      "\u001b[1;31m---------------------------------------------------------------------------\u001b[0m",
      "\u001b[1;31mKeyboardInterrupt\u001b[0m                         Traceback (most recent call last)",
      "\u001b[1;32m~\\AppData\\Local\\Temp\\ipykernel_18716\\2989679191.py\u001b[0m in \u001b[0;36m<module>\u001b[1;34m\u001b[0m\n\u001b[0;32m     56\u001b[0m \u001b[1;33m\u001b[0m\u001b[0m\n\u001b[0;32m     57\u001b[0m     \u001b[1;31m# 이미지와 bbox 시각화\u001b[0m\u001b[1;33m\u001b[0m\u001b[1;33m\u001b[0m\u001b[1;33m\u001b[0m\u001b[0m\n\u001b[1;32m---> 58\u001b[1;33m     \u001b[0mvisualize_bbox\u001b[0m\u001b[1;33m(\u001b[0m\u001b[0mimage_path\u001b[0m\u001b[1;33m,\u001b[0m \u001b[0mbbox_data\u001b[0m\u001b[1;33m)\u001b[0m\u001b[1;33m\u001b[0m\u001b[1;33m\u001b[0m\u001b[0m\n\u001b[0m",
      "\u001b[1;32m~\\AppData\\Local\\Temp\\ipykernel_18716\\2989679191.py\u001b[0m in \u001b[0;36mvisualize_bbox\u001b[1;34m(image_path, bbox_data)\u001b[0m\n\u001b[0;32m     24\u001b[0m     \u001b[1;31m# 이미지 출력\u001b[0m\u001b[1;33m\u001b[0m\u001b[1;33m\u001b[0m\u001b[1;33m\u001b[0m\u001b[0m\n\u001b[0;32m     25\u001b[0m     \u001b[0mcv2\u001b[0m\u001b[1;33m.\u001b[0m\u001b[0mimshow\u001b[0m\u001b[1;33m(\u001b[0m\u001b[1;34m'Image with Bbox'\u001b[0m\u001b[1;33m,\u001b[0m \u001b[0mimage\u001b[0m\u001b[1;33m)\u001b[0m\u001b[1;33m\u001b[0m\u001b[1;33m\u001b[0m\u001b[0m\n\u001b[1;32m---> 26\u001b[1;33m     \u001b[0mcv2\u001b[0m\u001b[1;33m.\u001b[0m\u001b[0mwaitKey\u001b[0m\u001b[1;33m(\u001b[0m\u001b[1;36m0\u001b[0m\u001b[1;33m)\u001b[0m\u001b[1;33m\u001b[0m\u001b[1;33m\u001b[0m\u001b[0m\n\u001b[0m\u001b[0;32m     27\u001b[0m     \u001b[0mcv2\u001b[0m\u001b[1;33m.\u001b[0m\u001b[0mdestroyAllWindows\u001b[0m\u001b[1;33m(\u001b[0m\u001b[1;33m)\u001b[0m\u001b[1;33m\u001b[0m\u001b[1;33m\u001b[0m\u001b[0m\n\u001b[0;32m     28\u001b[0m \u001b[1;33m\u001b[0m\u001b[0m\n",
      "\u001b[1;31mKeyboardInterrupt\u001b[0m: "
     ]
    }
   ],
   "source": [
    "import cv2\n",
    "import os\n",
    "\n",
    "def visualize_bbox(image_path, bbox_data):\n",
    "    # 이미지 로드\n",
    "    image = cv2.imread(image_path)\n",
    "    \n",
    "    for bbox in bbox_data:\n",
    "        # bbox 정보 추출\n",
    "        pm_code, center_x, center_y, width, height = bbox\n",
    "        \n",
    "        # 좌표 역정규화\n",
    "        left = int((center_x - (width / 2)) * image.shape[1])\n",
    "        top = int((center_y - (height / 2)) * image.shape[0])\n",
    "        right = int((center_x + (width / 2)) * image.shape[1])\n",
    "        bottom = int((center_y + (height / 2)) * image.shape[0])\n",
    "        \n",
    "        # bbox 그리기\n",
    "        cv2.rectangle(image, (left, top), (right, bottom), (0, 255, 0), 2)\n",
    "        \n",
    "        # bbox 라벨 표시\n",
    "        cv2.putText(image, str(pm_code), (left, top - 10), cv2.FONT_HERSHEY_SIMPLEX, 0.9, (0, 255, 0), 2)\n",
    "    \n",
    "    # 이미지 출력\n",
    "    cv2.imshow('Image with Bbox', image)\n",
    "    cv2.waitKey(0)\n",
    "    cv2.destroyAllWindows()\n",
    "\n",
    "\n",
    "# 이미지 폴더 경로와 라벨링 폴더 경로 지정\n",
    "image_folder = 'path'  # 이미지 폴더 경로\n",
    "label_folder = 'path'  # 라벨링 폴더 경로\n",
    "\n",
    "# 이미지 폴더에서 이미지 파일 목록 가져오기\n",
    "image_files = sorted(os.listdir(image_folder))\n",
    "\n",
    "# 상위 5개 이미지를 확인하고 시각화\n",
    "for image_file in image_files[100:105]: #100번 째 이미지부터 104번 째 이미지 확인\n",
    "    image_path = os.path.join(image_folder, image_file)\n",
    "    \n",
    "    # 이미지 파일명에 해당하는 라벨 파일 경로 생성\n",
    "    label_file = image_file.replace('.jpg', '.txt')\n",
    "    label_path = os.path.join(label_folder, label_file)\n",
    "    \n",
    "    # 라벨 파일에서 bbox 데이터 읽기\n",
    "    bbox_data = []\n",
    "    with open(label_path, 'r') as file:\n",
    "        for line in file:\n",
    "            bbox = line.strip().split(' ')\n",
    "            pm_code = int(bbox[0])\n",
    "            center_x = float(bbox[1])\n",
    "            center_y = float(bbox[2])\n",
    "            width = float(bbox[3])\n",
    "            height = float(bbox[4])\n",
    "            bbox_data.append([pm_code, center_x, center_y, width, height])\n",
    "    \n",
    "    # 이미지와 bbox 시각화\n",
    "    visualize_bbox(image_path, bbox_data)"
   ]
  }
 ],
 "metadata": {
  "kernelspec": {
   "display_name": "Python 3",
   "language": "python",
   "name": "python3"
  },
  "language_info": {
   "codemirror_mode": {
    "name": "ipython",
    "version": 3
   },
   "file_extension": ".py",
   "mimetype": "text/x-python",
   "name": "python",
   "nbconvert_exporter": "python",
   "pygments_lexer": "ipython3",
   "version": "3.7.16"
  },
  "orig_nbformat": 4
 },
 "nbformat": 4,
 "nbformat_minor": 2
}
