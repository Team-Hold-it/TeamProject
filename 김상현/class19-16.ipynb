{
 "cells": [
  {
   "attachments": {},
   "cell_type": "markdown",
   "metadata": {},
   "source": [
    "# 클래스 6 -> 3 코드"
   ]
  },
  {
   "cell_type": "code",
   "execution_count": 1,
   "metadata": {},
   "outputs": [],
   "source": [
    "import os\n",
    "\n",
    "input_folder_path = \"path\"\n",
    "output_folder_path = \"path\"\n",
    "\n",
    "old_class_number = 6\n",
    "new_class_number = 3\n",
    "\n",
    "# 출력 폴더가 존재하지 않으면 생성\n",
    "if not os.path.exists(output_folder_path):\n",
    "    os.makedirs(output_folder_path)\n",
    "\n",
    "# train, val, test 폴더의 txt 파일을 처리\n",
    "folders = [\"train\", \"val\", \"test\"]\n",
    "for folder in folders:\n",
    "    folder_path = os.path.join(input_folder_path, folder)\n",
    "    output_folder_path_folder = os.path.join(output_folder_path, folder)\n",
    "\n",
    "    # 출력 서브 폴더가 존재하지 않으면 생성\n",
    "    if not os.path.exists(output_folder_path_folder):\n",
    "        os.makedirs(output_folder_path_folder)\n",
    "\n",
    "    # 각 txt 파일을 처리\n",
    "    for filename in os.listdir(folder_path):\n",
    "        if filename.endswith(\".txt\"):\n",
    "            input_file_path = os.path.join(folder_path, filename)\n",
    "            output_file_path = os.path.join(output_folder_path_folder, filename)\n",
    "\n",
    "            with open(input_file_path, \"r\") as input_file, open(output_file_path, \"w\") as output_file:\n",
    "                for line in input_file:\n",
    "                    line = line.strip().split(\" \")\n",
    "                    class_number = int(line[0])\n",
    "                    if class_number == old_class_number:\n",
    "                        line[0] = str(new_class_number)\n",
    "                    output_file.write(\" \".join(line) + \"\\n\")\n"
   ]
  }
 ],
 "metadata": {
  "kernelspec": {
   "display_name": "Python 3",
   "language": "python",
   "name": "python3"
  },
  "language_info": {
   "codemirror_mode": {
    "name": "ipython",
    "version": 3
   },
   "file_extension": ".py",
   "mimetype": "text/x-python",
   "name": "python",
   "nbconvert_exporter": "python",
   "pygments_lexer": "ipython3",
   "version": "3.7.16"
  },
  "orig_nbformat": 4
 },
 "nbformat": 4,
 "nbformat_minor": 2
}
