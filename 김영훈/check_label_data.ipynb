{
 "cells": [
  {
   "cell_type": "code",
   "execution_count": 17,
   "id": "68ee7294",
   "metadata": {},
   "outputs": [],
   "source": [
    "import os\n",
    "import pandas as pd\n",
    "import cv2\n",
    "import json"
   ]
  },
  {
   "cell_type": "code",
   "execution_count": 4,
   "id": "c7a212bc",
   "metadata": {},
   "outputs": [
    {
     "data": {
      "text/plain": [
       "'C:\\\\Users\\\\user\\\\section6\\\\tp2\\\\code_file'"
      ]
     },
     "execution_count": 4,
     "metadata": {},
     "output_type": "execute_result"
    }
   ],
   "source": [
    "os.getcwd()"
   ]
  },
  {
   "cell_type": "code",
   "execution_count": 5,
   "id": "9a306aca",
   "metadata": {},
   "outputs": [
    {
     "data": {
      "text/plain": [
       "'C:\\\\Users\\\\user\\\\section6\\\\tp2'"
      ]
     },
     "execution_count": 5,
     "metadata": {},
     "output_type": "execute_result"
    }
   ],
   "source": [
    "os.chdir('../')\n",
    "os.getcwd()"
   ]
  },
  {
   "cell_type": "code",
   "execution_count": 8,
   "id": "9706feb5",
   "metadata": {},
   "outputs": [
    {
     "data": {
      "text/plain": [
       "'C:\\\\Users\\\\user\\\\section6\\\\tp2\\\\data\\\\precleaning_data\\\\labels'"
      ]
     },
     "execution_count": 8,
     "metadata": {},
     "output_type": "execute_result"
    }
   ],
   "source": [
    "# json 파일 있는 경로로 이동. \n",
    "os.chdir('data/precleaning_data/labels')\n",
    "os.getcwd()"
   ]
  },
  {
   "cell_type": "code",
   "execution_count": 9,
   "id": "24b2560c",
   "metadata": {},
   "outputs": [],
   "source": [
    "filename_list = os.listdir()"
   ]
  },
  {
   "cell_type": "code",
   "execution_count": 11,
   "id": "d4789caa",
   "metadata": {},
   "outputs": [
    {
     "data": {
      "text/plain": [
       "56423"
      ]
     },
     "execution_count": 11,
     "metadata": {},
     "output_type": "execute_result"
    }
   ],
   "source": [
    "len(filename_list)"
   ]
  },
  {
   "cell_type": "code",
   "execution_count": 12,
   "id": "0bb598b0",
   "metadata": {},
   "outputs": [],
   "source": [
    "# path : json 파일 있는 경로\n",
    "path = os.getcwd()"
   ]
  },
  {
   "cell_type": "code",
   "execution_count": 19,
   "id": "4c915a04",
   "metadata": {},
   "outputs": [
    {
     "data": {
      "text/plain": [
       "'C:\\\\Users\\\\user\\\\section6\\\\tp2\\\\data\\\\precleaning_data\\\\images'"
      ]
     },
     "execution_count": 19,
     "metadata": {},
     "output_type": "execute_result"
    }
   ],
   "source": [
    "os.chdir('../images')\n",
    "os.getcwd()"
   ]
  },
  {
   "cell_type": "code",
   "execution_count": 21,
   "id": "060d3856",
   "metadata": {},
   "outputs": [],
   "source": [
    "# img_path : img 파일 모아둔 경로 \n",
    "img_path = os.getcwd()"
   ]
  },
  {
   "cell_type": "code",
   "execution_count": 22,
   "id": "ab3f036e",
   "metadata": {},
   "outputs": [],
   "source": [
    "def bbox(filename):\n",
    "    '''\n",
    "    filename = ~~~.json 형식 \n",
    "    json 파일 이름 입력시 pm_code 13~19만 뽑아서 bbox tuple로 만드는 함수\n",
    "    output_list = [(pm_code, left_bottom_x, left_bottom_y, right_top_x, right_top_y)]\\\n",
    "    len(output_list) = 해당 pm_code 개수 \n",
    "            (ex. 13: 1개 15: 2개 존재하면 len=3) \n",
    "    '''\n",
    "    # 빈 리스트 생성\n",
    "    output_list = []\n",
    "    \n",
    "    # filename에 맞는 json 파일 open \n",
    "    with open(path + '/' + filename, encoding = 'utf-8') as f:\n",
    "        data = json.load(f)\n",
    "           \n",
    "    for i in range(len(data['annotations']['PM'])):\n",
    "        pm_code = int(data['annotations']['PM'][i]['PM_code'])\n",
    "        # pm_code 13~19 만 추출 \n",
    "        if pm_code >= 13 and pm_code <= 19:\n",
    "            width = data['annotations']['PM'][i]['points'][2] \n",
    "            height = data['annotations']['PM'][i]['points'][3]\n",
    "            \n",
    "            # rectangle 그릴 때 좌표 2개가 필요함. 참고 레퍼런스 : https://copycoding.tistory.com/146\n",
    "            \n",
    "            # 사각형 왼쪽 아래 좌표 x, y\n",
    "            x = data['annotations']['PM'][i]['points'][0]\n",
    "            y = data['annotations']['PM'][i]['points'][1]\n",
    "            \n",
    "            # 사각형 오른쪽 위 좌표 x2, y2\n",
    "            x2 = x + width\n",
    "            y2 = y + height \n",
    "            \n",
    "            new_tuple = (pm_code, x, y, x2, y2)\n",
    "            output_list.append(new_tuple)\n",
    "    \n",
    "    return output_list"
   ]
  },
  {
   "cell_type": "code",
   "execution_count": 34,
   "id": "9eab6315",
   "metadata": {},
   "outputs": [],
   "source": [
    "# 대충 5개만 확인\n",
    "for i in range(5):\n",
    "    # 컬러 지정\n",
    "    red_color = (0,0,255)\n",
    "    \n",
    "    # bbox_list 생성\n",
    "    bbox_list = bbox(filename_list[i])\n",
    "    \n",
    "    # 이미지 불러오기\n",
    "    img = cv2.imread(img_path + '/' + filename_list[i].split('.')[0] + '.jpg')\n",
    "    \n",
    "    # pm_code 가 존재하는 개수만큼 rectangle 생성\n",
    "    for j in range(len(bbox_list)):\n",
    "        img = cv2.rectangle(img, # 어디에 그릴지\n",
    "                            (int(bbox_list[j][1]),int(bbox_list[j][2])), # 왼쪽 아래 (x,y) \n",
    "                            (int(bbox_list[j][3]),int(bbox_list[j][4])), # 오른쪽 위 (x2, y2)\n",
    "                            red_color, # 색깔 지정\n",
    "                            3) # 두께 지정\n",
    "        \n",
    "    # 이미지 창 생성\n",
    "    cv2.imshow('label', img)\n",
    "    \n",
    "    # 아무키 누르면 다음 이미지로 넘어감 \n",
    "    cv2.waitKey(0)\n",
    "    cv2.destroyAllWindows()\n"
   ]
  },
  {
   "cell_type": "code",
   "execution_count": null,
   "id": "8ec3a967",
   "metadata": {},
   "outputs": [],
   "source": []
  }
 ],
 "metadata": {
  "kernelspec": {
   "display_name": "Python 3 (ipykernel)",
   "language": "python",
   "name": "python3"
  },
  "language_info": {
   "codemirror_mode": {
    "name": "ipython",
    "version": 3
   },
   "file_extension": ".py",
   "mimetype": "text/x-python",
   "name": "python",
   "nbconvert_exporter": "python",
   "pygments_lexer": "ipython3",
   "version": "3.9.13"
  }
 },
 "nbformat": 4,
 "nbformat_minor": 5
}
