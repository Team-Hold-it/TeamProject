{
 "cells": [
  {
   "cell_type": "code",
   "execution_count": 1,
   "id": "3effd947",
   "metadata": {},
   "outputs": [],
   "source": [
    "import os\n",
    "import shutil"
   ]
  },
  {
   "cell_type": "code",
   "execution_count": 12,
   "id": "5ccf424b",
   "metadata": {},
   "outputs": [
    {
     "data": {
      "text/plain": [
       "'C:\\\\Users\\\\user\\\\section6\\\\tp2\\\\data\\\\120.개인형 이동장치 안전 데이터\\\\01.데이터\\\\2.Validation'"
      ]
     },
     "execution_count": 12,
     "metadata": {},
     "output_type": "execute_result"
    }
   ],
   "source": [
    "# 원본 데이터 경로 \n",
    "# (2. Validation인 이유 : 원본이 400Gb인데, 그 중 Validation 40Gb만 사용했음.)\n",
    "os.chdir('../data/120.개인형 이동장치 안전 데이터/01.데이터/2.Validation')\n",
    "path = os.getcwd()\n",
    "path"
   ]
  },
  {
   "cell_type": "code",
   "execution_count": 17,
   "id": "533a9524",
   "metadata": {},
   "outputs": [
    {
     "data": {
      "text/plain": [
       "'C:\\\\Users\\\\user\\\\section6\\\\tp2\\\\data\\\\precleaning_data/labels/'"
      ]
     },
     "execution_count": 17,
     "metadata": {},
     "output_type": "execute_result"
    }
   ],
   "source": [
    "# 전처리한 라벨 데이터 경로 \n",
    "os.chdir('../../../precleaning_data/labels')\n",
    "new_path = os.getcwd()\n",
    "new_path"
   ]
  },
  {
   "cell_type": "code",
   "execution_count": 19,
   "id": "8fccadaf",
   "metadata": {},
   "outputs": [],
   "source": [
    "# 폴더 별로 흩어져있는 것을 한 곳으로 모음.\n",
    "filename_list = []\n",
    "for fd1 in os.listdir(path):\n",
    "    path1 = path + '/' + fd1\n",
    "    for fd2 in os.listdir(path1):\n",
    "        path2 = path1 + '/' + fd2\n",
    "        for fd3 in os.listdir(path2):\n",
    "            path3 = path2 + '/' + fd3\n",
    "            for fd4 in os.listdir(path3):\n",
    "                path4 = path3 + '/' + fd4\n",
    "                for fd5 in os.listdir(path4):\n",
    "                    path5 = path4 + '/' + fd5\n",
    "                    for fd6 in os.listdir(path5):\n",
    "                        path6 = path5 + '/' + fd6\n",
    "                        for filename in os.listdir(path6):\n",
    "                            filename_list.append(filename)\n",
    "                            shutil.move(path6 + '/' + filename, new_path + filename)"
   ]
  },
  {
   "cell_type": "code",
   "execution_count": 35,
   "id": "a6f33f52",
   "metadata": {},
   "outputs": [
    {
     "data": {
      "text/plain": [
       "'C:\\\\Users\\\\user\\\\section6\\\\tp2\\\\data\\\\precleaning_data\\\\images'"
      ]
     },
     "execution_count": 35,
     "metadata": {},
     "output_type": "execute_result"
    }
   ],
   "source": [
    "# 전처리한 이미지 데이터 경로 \n",
    "os.chdir('../images')\n",
    "image_path = os.getcwd()\n",
    "image_path"
   ]
  },
  {
   "cell_type": "code",
   "execution_count": 37,
   "id": "2bf8b15c",
   "metadata": {
    "scrolled": false
   },
   "outputs": [
    {
     "data": {
      "text/plain": [
       "'C:\\\\Users\\\\user\\\\section6\\\\tp2\\\\data\\\\precleaning_data/labels/'"
      ]
     },
     "execution_count": 37,
     "metadata": {},
     "output_type": "execute_result"
    }
   ],
   "source": [
    "# 변수 이름 재설정 \n",
    "label_path = new_path\n",
    "label_path"
   ]
  },
  {
   "cell_type": "code",
   "execution_count": 38,
   "id": "474164cd",
   "metadata": {},
   "outputs": [],
   "source": [
    "# 라벨 이름에 존재하는 것만 이미지 이동\n",
    "# 오토바이만 뽑았기 때문에 없는 것도 있음. \n",
    "for filename in os.listdir(label_path):\n",
    "    if 'jpg' in filename:\n",
    "        shutil.move(label_path + filename, image_path + '/' + filename)"
   ]
  },
  {
   "cell_type": "code",
   "execution_count": null,
   "id": "0287b2ba",
   "metadata": {},
   "outputs": [],
   "source": []
  }
 ],
 "metadata": {
  "kernelspec": {
   "display_name": "Python 3 (ipykernel)",
   "language": "python",
   "name": "python3"
  },
  "language_info": {
   "codemirror_mode": {
    "name": "ipython",
    "version": 3
   },
   "file_extension": ".py",
   "mimetype": "text/x-python",
   "name": "python",
   "nbconvert_exporter": "python",
   "pygments_lexer": "ipython3",
   "version": "3.9.13"
  }
 },
 "nbformat": 4,
 "nbformat_minor": 5
}
