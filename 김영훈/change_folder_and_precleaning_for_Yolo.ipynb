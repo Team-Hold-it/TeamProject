{
 "cells": [
  {
   "cell_type": "code",
   "execution_count": 1,
   "id": "c8586307",
   "metadata": {},
   "outputs": [],
   "source": [
    "import os\n",
    "import shutil\n",
    "from tqdm import tqdm\n",
    "import json\n",
    "import pandas as pd\n",
    "import cv2\n",
    "from sklearn.model_selection import train_test_split\n"
   ]
  },
  {
   "cell_type": "code",
   "execution_count": 2,
   "id": "7dfadd0a",
   "metadata": {},
   "outputs": [],
   "source": [
    "# 개인 로컬마다 설정 해야하는 부분 #\n",
    "\n",
    "\n",
    "# cctv_df 가 있는 위치\n",
    "path_cctv_df = 'C:\\\\Users\\\\user\\\\section6\\\\tp2\\\\data'\n",
    "\n",
    "# 이미지 파일 한 곳에 모아둔 위치\n",
    "path_cctv_image = 'C:\\\\Users\\\\user\\\\section6\\\\tp2\\\\data\\\\precleaning_data\\\\images'\n",
    "\n",
    "# cctv 이미지만 모아둘 위치 \n",
    "new_path_cctv_image = 'C:\\\\Users\\\\user\\\\section6\\\\tp2\\\\code_file\\\\datasets\\\\images'\n",
    "\n",
    "# 라벨 파일 한 곳에 모아둔 위치\n",
    "path_cctv_label = 'C:\\\\Users\\\\user\\\\section6\\\\tp2\\\\data\\\\precleaning_data\\\\labels'\n",
    "\n",
    "# cctv 라벨 파일 한 곳에 모아둘 위치\n",
    "new_path_cctv_label = 'C:\\\\Users\\\\user\\\\section6\\\\tp2\\\\code_file\\\\datasets\\\\labels'"
   ]
  },
  {
   "cell_type": "code",
   "execution_count": 3,
   "id": "fc637183",
   "metadata": {},
   "outputs": [],
   "source": [
    "df = pd.read_csv(path_cctv_df + '/cctv_df.csv')"
   ]
  },
  {
   "cell_type": "code",
   "execution_count": 4,
   "id": "9c06e3b7",
   "metadata": {},
   "outputs": [],
   "source": [
    "# video_id의 유니크 값만 추출\n",
    "video_id = df['video_id'].unique()"
   ]
  },
  {
   "cell_type": "code",
   "execution_count": 5,
   "id": "a6934374",
   "metadata": {},
   "outputs": [
    {
     "data": {
      "text/plain": [
       "26671"
      ]
     },
     "execution_count": 5,
     "metadata": {},
     "output_type": "execute_result"
    }
   ],
   "source": [
    "# 이미지 파일 개수 26,671개\n",
    "len(video_id)"
   ]
  },
  {
   "cell_type": "markdown",
   "id": "45a1622a",
   "metadata": {},
   "source": [
    "# CCTV 이미지, Json만 새로운 폴더로 이동 "
   ]
  },
  {
   "cell_type": "code",
   "execution_count": 23,
   "id": "2b987495",
   "metadata": {},
   "outputs": [
    {
     "name": "stderr",
     "output_type": "stream",
     "text": [
      "  3%|██▏                                                                          | 761/26671 [00:03<01:59, 217.47it/s]\n"
     ]
    },
    {
     "ename": "KeyboardInterrupt",
     "evalue": "",
     "output_type": "error",
     "traceback": [
      "\u001b[1;31m---------------------------------------------------------------------------\u001b[0m",
      "\u001b[1;31mKeyboardInterrupt\u001b[0m                         Traceback (most recent call last)",
      "\u001b[1;32m~\\AppData\\Local\\Temp\\ipykernel_17444\\3221928407.py\u001b[0m in \u001b[0;36m<module>\u001b[1;34m\u001b[0m\n\u001b[0;32m      1\u001b[0m \u001b[1;31m# cctv 이미지만 새로운 폴더로 카피\u001b[0m\u001b[1;33m\u001b[0m\u001b[1;33m\u001b[0m\u001b[0m\n\u001b[0;32m      2\u001b[0m \u001b[1;32mfor\u001b[0m \u001b[0mvideo\u001b[0m \u001b[1;32min\u001b[0m \u001b[0mtqdm\u001b[0m\u001b[1;33m(\u001b[0m\u001b[0mvideo_id\u001b[0m\u001b[1;33m)\u001b[0m\u001b[1;33m:\u001b[0m\u001b[1;33m\u001b[0m\u001b[1;33m\u001b[0m\u001b[0m\n\u001b[1;32m----> 3\u001b[1;33m     shutil.copy(path_cctv_image + '/' + video + '.jpg',\n\u001b[0m\u001b[0;32m      4\u001b[0m                new_path_cctv_image + '/' + video + '.jpg')\n\u001b[0;32m      5\u001b[0m \u001b[1;33m\u001b[0m\u001b[0m\n",
      "\u001b[1;32mC:\\Anaconda\\lib\\shutil.py\u001b[0m in \u001b[0;36mcopy\u001b[1;34m(src, dst, follow_symlinks)\u001b[0m\n\u001b[0;32m    425\u001b[0m     \u001b[1;32mif\u001b[0m \u001b[0mos\u001b[0m\u001b[1;33m.\u001b[0m\u001b[0mpath\u001b[0m\u001b[1;33m.\u001b[0m\u001b[0misdir\u001b[0m\u001b[1;33m(\u001b[0m\u001b[0mdst\u001b[0m\u001b[1;33m)\u001b[0m\u001b[1;33m:\u001b[0m\u001b[1;33m\u001b[0m\u001b[1;33m\u001b[0m\u001b[0m\n\u001b[0;32m    426\u001b[0m         \u001b[0mdst\u001b[0m \u001b[1;33m=\u001b[0m \u001b[0mos\u001b[0m\u001b[1;33m.\u001b[0m\u001b[0mpath\u001b[0m\u001b[1;33m.\u001b[0m\u001b[0mjoin\u001b[0m\u001b[1;33m(\u001b[0m\u001b[0mdst\u001b[0m\u001b[1;33m,\u001b[0m \u001b[0mos\u001b[0m\u001b[1;33m.\u001b[0m\u001b[0mpath\u001b[0m\u001b[1;33m.\u001b[0m\u001b[0mbasename\u001b[0m\u001b[1;33m(\u001b[0m\u001b[0msrc\u001b[0m\u001b[1;33m)\u001b[0m\u001b[1;33m)\u001b[0m\u001b[1;33m\u001b[0m\u001b[1;33m\u001b[0m\u001b[0m\n\u001b[1;32m--> 427\u001b[1;33m     \u001b[0mcopyfile\u001b[0m\u001b[1;33m(\u001b[0m\u001b[0msrc\u001b[0m\u001b[1;33m,\u001b[0m \u001b[0mdst\u001b[0m\u001b[1;33m,\u001b[0m \u001b[0mfollow_symlinks\u001b[0m\u001b[1;33m=\u001b[0m\u001b[0mfollow_symlinks\u001b[0m\u001b[1;33m)\u001b[0m\u001b[1;33m\u001b[0m\u001b[1;33m\u001b[0m\u001b[0m\n\u001b[0m\u001b[0;32m    428\u001b[0m     \u001b[0mcopymode\u001b[0m\u001b[1;33m(\u001b[0m\u001b[0msrc\u001b[0m\u001b[1;33m,\u001b[0m \u001b[0mdst\u001b[0m\u001b[1;33m,\u001b[0m \u001b[0mfollow_symlinks\u001b[0m\u001b[1;33m=\u001b[0m\u001b[0mfollow_symlinks\u001b[0m\u001b[1;33m)\u001b[0m\u001b[1;33m\u001b[0m\u001b[1;33m\u001b[0m\u001b[0m\n\u001b[0;32m    429\u001b[0m     \u001b[1;32mreturn\u001b[0m \u001b[0mdst\u001b[0m\u001b[1;33m\u001b[0m\u001b[1;33m\u001b[0m\u001b[0m\n",
      "\u001b[1;32mC:\\Anaconda\\lib\\shutil.py\u001b[0m in \u001b[0;36mcopyfile\u001b[1;34m(src, dst, follow_symlinks)\u001b[0m\n\u001b[0;32m    282\u001b[0m                     \u001b[1;31m# https://github.com/python/cpython/pull/7160#discussion_r195405230\u001b[0m\u001b[1;33m\u001b[0m\u001b[1;33m\u001b[0m\u001b[0m\n\u001b[0;32m    283\u001b[0m                     \u001b[1;32melif\u001b[0m \u001b[0m_WINDOWS\u001b[0m \u001b[1;32mand\u001b[0m \u001b[0mfile_size\u001b[0m \u001b[1;33m>\u001b[0m \u001b[1;36m0\u001b[0m\u001b[1;33m:\u001b[0m\u001b[1;33m\u001b[0m\u001b[1;33m\u001b[0m\u001b[0m\n\u001b[1;32m--> 284\u001b[1;33m                         \u001b[0m_copyfileobj_readinto\u001b[0m\u001b[1;33m(\u001b[0m\u001b[0mfsrc\u001b[0m\u001b[1;33m,\u001b[0m \u001b[0mfdst\u001b[0m\u001b[1;33m,\u001b[0m \u001b[0mmin\u001b[0m\u001b[1;33m(\u001b[0m\u001b[0mfile_size\u001b[0m\u001b[1;33m,\u001b[0m \u001b[0mCOPY_BUFSIZE\u001b[0m\u001b[1;33m)\u001b[0m\u001b[1;33m)\u001b[0m\u001b[1;33m\u001b[0m\u001b[1;33m\u001b[0m\u001b[0m\n\u001b[0m\u001b[0;32m    285\u001b[0m                         \u001b[1;32mreturn\u001b[0m \u001b[0mdst\u001b[0m\u001b[1;33m\u001b[0m\u001b[1;33m\u001b[0m\u001b[0m\n\u001b[0;32m    286\u001b[0m \u001b[1;33m\u001b[0m\u001b[0m\n",
      "\u001b[1;32mC:\\Anaconda\\lib\\shutil.py\u001b[0m in \u001b[0;36m_copyfileobj_readinto\u001b[1;34m(fsrc, fdst, length)\u001b[0m\n\u001b[0;32m    193\u001b[0m                     \u001b[0mfdst\u001b[0m\u001b[1;33m.\u001b[0m\u001b[0mwrite\u001b[0m\u001b[1;33m(\u001b[0m\u001b[0msmv\u001b[0m\u001b[1;33m)\u001b[0m\u001b[1;33m\u001b[0m\u001b[1;33m\u001b[0m\u001b[0m\n\u001b[0;32m    194\u001b[0m             \u001b[1;32melse\u001b[0m\u001b[1;33m:\u001b[0m\u001b[1;33m\u001b[0m\u001b[1;33m\u001b[0m\u001b[0m\n\u001b[1;32m--> 195\u001b[1;33m                 \u001b[0mfdst_write\u001b[0m\u001b[1;33m(\u001b[0m\u001b[0mmv\u001b[0m\u001b[1;33m)\u001b[0m\u001b[1;33m\u001b[0m\u001b[1;33m\u001b[0m\u001b[0m\n\u001b[0m\u001b[0;32m    196\u001b[0m \u001b[1;33m\u001b[0m\u001b[0m\n\u001b[0;32m    197\u001b[0m \u001b[1;32mdef\u001b[0m \u001b[0mcopyfileobj\u001b[0m\u001b[1;33m(\u001b[0m\u001b[0mfsrc\u001b[0m\u001b[1;33m,\u001b[0m \u001b[0mfdst\u001b[0m\u001b[1;33m,\u001b[0m \u001b[0mlength\u001b[0m\u001b[1;33m=\u001b[0m\u001b[1;36m0\u001b[0m\u001b[1;33m)\u001b[0m\u001b[1;33m:\u001b[0m\u001b[1;33m\u001b[0m\u001b[1;33m\u001b[0m\u001b[0m\n",
      "\u001b[1;31mKeyboardInterrupt\u001b[0m: "
     ]
    }
   ],
   "source": [
    "# cctv 이미지만 새로운 폴더로 카피\n",
    "for video in tqdm(video_id):\n",
    "    shutil.copy(path_cctv_image + '/' + video + '.jpg',\n",
    "               new_path_cctv_image + '/' + video + '.jpg')\n",
    "    \n",
    "# 26671 개 데이터가 잘 들어갔는지 확인"
   ]
  },
  {
   "cell_type": "code",
   "execution_count": 21,
   "id": "e3730432",
   "metadata": {},
   "outputs": [
    {
     "name": "stderr",
     "output_type": "stream",
     "text": [
      "100%|███████████████████████████████████████████████████████████████████████████| 26671/26671 [02:46<00:00, 160.36it/s]\n"
     ]
    }
   ],
   "source": [
    "# cctv label 데이터만 json -> txt\n",
    "\n",
    "for video in tqdm(video_id):\n",
    "    with open(path_cctv_label + '/' + video + '.json', encoding = 'utf-8') as f:\n",
    "        data = json.load(f)\n",
    "        \n",
    "    # new_path에 txt 파일 형식으로 저장 \n",
    "    with open(new_path_cctv_label + '/' + video + '.txt', 'w+') as f_txt:\n",
    "        \n",
    "        for i in range(len(data['annotations']['PM'])):\n",
    "            pm_code = int(data['annotations']['PM'][i]['PM_code']) - 13\n",
    "            if pm_code >= 0 and pm_code <= 6:\n",
    "                width = data['annotations']['PM'][i]['points'][2] \n",
    "                height = data['annotations']['PM'][i]['points'][3]\n",
    "                x = data['annotations']['PM'][i]['points'][0] + width / 2\n",
    "                y = data['annotations']['PM'][i]['points'][1] + height / 2  \n",
    "                new_line = f'{pm_code} {x} {y} {width} {height}'\n",
    "\n",
    "                f_txt.write(new_line)\n",
    "                f_txt.write('\\n')\n",
    "        \n",
    "# 26671 개 데이터가 잘 들어갔는지 확인 "
   ]
  },
  {
   "cell_type": "markdown",
   "id": "291a9c9e",
   "metadata": {},
   "source": [
    "# Train, Val, Test 80:15:5 비율로 나누기"
   ]
  },
  {
   "cell_type": "code",
   "execution_count": 6,
   "id": "7b267e8f",
   "metadata": {},
   "outputs": [],
   "source": [
    "# video_id에서 train, test 나눔\n",
    "train, test = train_test_split(video_id, \n",
    "                               test_size=0.2, \n",
    "                               random_state=42)"
   ]
  },
  {
   "cell_type": "code",
   "execution_count": 7,
   "id": "eb7228c5",
   "metadata": {},
   "outputs": [
    {
     "data": {
      "text/plain": [
       "('F000074_000_5752_C_D_F_1', 'S002170_010_0252_C_D_F_0')"
      ]
     },
     "execution_count": 7,
     "metadata": {},
     "output_type": "execute_result"
    }
   ],
   "source": [
    "train[0], test[0]"
   ]
  },
  {
   "cell_type": "code",
   "execution_count": 8,
   "id": "63c718a9",
   "metadata": {},
   "outputs": [
    {
     "data": {
      "text/plain": [
       "(21336, 5335)"
      ]
     },
     "execution_count": 8,
     "metadata": {},
     "output_type": "execute_result"
    }
   ],
   "source": [
    "len(train), len(test)"
   ]
  },
  {
   "cell_type": "code",
   "execution_count": 9,
   "id": "a47ecae1",
   "metadata": {},
   "outputs": [],
   "source": [
    "# test에서 val, test 나눔\n",
    "val, test = train_test_split(test,\n",
    "                            test_size=0.25,\n",
    "                            random_state=42)"
   ]
  },
  {
   "cell_type": "code",
   "execution_count": 10,
   "id": "875b5287",
   "metadata": {},
   "outputs": [
    {
     "data": {
      "text/plain": [
       "(21336, 4001, 1334)"
      ]
     },
     "execution_count": 10,
     "metadata": {},
     "output_type": "execute_result"
    }
   ],
   "source": [
    "# 최종 80 : 15 : 5 비율로 나눔 \n",
    "len(train), len(val), len(test)"
   ]
  },
  {
   "cell_type": "markdown",
   "id": "85df1951",
   "metadata": {},
   "source": [
    "# image, label 데이터 Train, val, test 폴더에 맞게 나누기 "
   ]
  },
  {
   "cell_type": "code",
   "execution_count": 27,
   "id": "5a641457",
   "metadata": {},
   "outputs": [
    {
     "name": "stderr",
     "output_type": "stream",
     "text": [
      "100%|███████████████████████████████████████████████████████████████████████████| 26671/26671 [00:28<00:00, 921.56it/s]\n"
     ]
    }
   ],
   "source": [
    "# image 파일 train, val, test 폴더로 나눠서 저장\n",
    "for video in tqdm(video_id):\n",
    "    if video in train:\n",
    "        shutil.move(new_path_cctv_image + '/' + video +'.jpg',\n",
    "                   new_path_cctv_image + '/train/' + video + '.jpg')\n",
    "    elif video in val:\n",
    "        shutil.move(new_path_cctv_image + '/' + video +'.jpg',\n",
    "                   new_path_cctv_image + '/val/' + video + '.jpg')\n",
    "    elif video in test:\n",
    "        shutil.move(new_path_cctv_image + '/' + video +'.jpg',\n",
    "                   new_path_cctv_image + '/test/' + video + '.jpg')\n",
    "    else:\n",
    "        # 있지는 않지만 혹시 모르니 프린트\n",
    "        print(video)"
   ]
  },
  {
   "cell_type": "code",
   "execution_count": 12,
   "id": "0da7915b",
   "metadata": {},
   "outputs": [
    {
     "name": "stderr",
     "output_type": "stream",
     "text": [
      "  0%|                                                  | 0/26671 [00:00<?, ?it/s]\n"
     ]
    },
    {
     "ename": "FileNotFoundError",
     "evalue": "[Errno 2] No such file or directory: 'C:\\\\Users\\\\user\\\\section6\\\\tp2\\\\code_file\\\\datasets\\\\labels/C000002_003_0009_C_D_F_0.txt'",
     "output_type": "error",
     "traceback": [
      "\u001b[1;31m---------------------------------------------------------------------------\u001b[0m",
      "\u001b[1;31mFileNotFoundError\u001b[0m                         Traceback (most recent call last)",
      "\u001b[1;32mC:\\Anaconda\\lib\\shutil.py\u001b[0m in \u001b[0;36mmove\u001b[1;34m(src, dst, copy_function)\u001b[0m\n\u001b[0;32m    824\u001b[0m     \u001b[1;32mtry\u001b[0m\u001b[1;33m:\u001b[0m\u001b[1;33m\u001b[0m\u001b[1;33m\u001b[0m\u001b[0m\n\u001b[1;32m--> 825\u001b[1;33m         \u001b[0mos\u001b[0m\u001b[1;33m.\u001b[0m\u001b[0mrename\u001b[0m\u001b[1;33m(\u001b[0m\u001b[0msrc\u001b[0m\u001b[1;33m,\u001b[0m \u001b[0mreal_dst\u001b[0m\u001b[1;33m)\u001b[0m\u001b[1;33m\u001b[0m\u001b[1;33m\u001b[0m\u001b[0m\n\u001b[0m\u001b[0;32m    826\u001b[0m     \u001b[1;32mexcept\u001b[0m \u001b[0mOSError\u001b[0m\u001b[1;33m:\u001b[0m\u001b[1;33m\u001b[0m\u001b[1;33m\u001b[0m\u001b[0m\n",
      "\u001b[1;31mFileNotFoundError\u001b[0m: [WinError 2] 지정된 파일을 찾을 수 없습니다: 'C:\\\\Users\\\\user\\\\section6\\\\tp2\\\\code_file\\\\datasets\\\\labels/C000002_003_0009_C_D_F_0.txt' -> 'C:\\\\Users\\\\user\\\\section6\\\\tp2\\\\code_file\\\\datasets\\\\labels/train/C000002_003_0009_C_D_F_0.txt'",
      "\nDuring handling of the above exception, another exception occurred:\n",
      "\u001b[1;31mFileNotFoundError\u001b[0m                         Traceback (most recent call last)",
      "\u001b[1;32m~\\AppData\\Local\\Temp\\ipykernel_27436\\1799472970.py\u001b[0m in \u001b[0;36m<module>\u001b[1;34m\u001b[0m\n\u001b[0;32m      2\u001b[0m \u001b[1;32mfor\u001b[0m \u001b[0mvideo\u001b[0m \u001b[1;32min\u001b[0m \u001b[0mtqdm\u001b[0m\u001b[1;33m(\u001b[0m\u001b[0mvideo_id\u001b[0m\u001b[1;33m)\u001b[0m\u001b[1;33m:\u001b[0m\u001b[1;33m\u001b[0m\u001b[1;33m\u001b[0m\u001b[0m\n\u001b[0;32m      3\u001b[0m     \u001b[1;32mif\u001b[0m \u001b[0mvideo\u001b[0m \u001b[1;32min\u001b[0m \u001b[0mtrain\u001b[0m\u001b[1;33m:\u001b[0m\u001b[1;33m\u001b[0m\u001b[1;33m\u001b[0m\u001b[0m\n\u001b[1;32m----> 4\u001b[1;33m         shutil.move(new_path_cctv_label + '/' + video +'.txt',\n\u001b[0m\u001b[0;32m      5\u001b[0m                    new_path_cctv_label + '/train/' + video + '.txt')\n\u001b[0;32m      6\u001b[0m     \u001b[1;32melif\u001b[0m \u001b[0mvideo\u001b[0m \u001b[1;32min\u001b[0m \u001b[0mval\u001b[0m\u001b[1;33m:\u001b[0m\u001b[1;33m\u001b[0m\u001b[1;33m\u001b[0m\u001b[0m\n",
      "\u001b[1;32mC:\\Anaconda\\lib\\shutil.py\u001b[0m in \u001b[0;36mmove\u001b[1;34m(src, dst, copy_function)\u001b[0m\n\u001b[0;32m    843\u001b[0m             \u001b[0mrmtree\u001b[0m\u001b[1;33m(\u001b[0m\u001b[0msrc\u001b[0m\u001b[1;33m)\u001b[0m\u001b[1;33m\u001b[0m\u001b[1;33m\u001b[0m\u001b[0m\n\u001b[0;32m    844\u001b[0m         \u001b[1;32melse\u001b[0m\u001b[1;33m:\u001b[0m\u001b[1;33m\u001b[0m\u001b[1;33m\u001b[0m\u001b[0m\n\u001b[1;32m--> 845\u001b[1;33m             \u001b[0mcopy_function\u001b[0m\u001b[1;33m(\u001b[0m\u001b[0msrc\u001b[0m\u001b[1;33m,\u001b[0m \u001b[0mreal_dst\u001b[0m\u001b[1;33m)\u001b[0m\u001b[1;33m\u001b[0m\u001b[1;33m\u001b[0m\u001b[0m\n\u001b[0m\u001b[0;32m    846\u001b[0m             \u001b[0mos\u001b[0m\u001b[1;33m.\u001b[0m\u001b[0munlink\u001b[0m\u001b[1;33m(\u001b[0m\u001b[0msrc\u001b[0m\u001b[1;33m)\u001b[0m\u001b[1;33m\u001b[0m\u001b[1;33m\u001b[0m\u001b[0m\n\u001b[0;32m    847\u001b[0m     \u001b[1;32mreturn\u001b[0m \u001b[0mreal_dst\u001b[0m\u001b[1;33m\u001b[0m\u001b[1;33m\u001b[0m\u001b[0m\n",
      "\u001b[1;32mC:\\Anaconda\\lib\\shutil.py\u001b[0m in \u001b[0;36mcopy2\u001b[1;34m(src, dst, follow_symlinks)\u001b[0m\n\u001b[0;32m    442\u001b[0m     \u001b[1;32mif\u001b[0m \u001b[0mos\u001b[0m\u001b[1;33m.\u001b[0m\u001b[0mpath\u001b[0m\u001b[1;33m.\u001b[0m\u001b[0misdir\u001b[0m\u001b[1;33m(\u001b[0m\u001b[0mdst\u001b[0m\u001b[1;33m)\u001b[0m\u001b[1;33m:\u001b[0m\u001b[1;33m\u001b[0m\u001b[1;33m\u001b[0m\u001b[0m\n\u001b[0;32m    443\u001b[0m         \u001b[0mdst\u001b[0m \u001b[1;33m=\u001b[0m \u001b[0mos\u001b[0m\u001b[1;33m.\u001b[0m\u001b[0mpath\u001b[0m\u001b[1;33m.\u001b[0m\u001b[0mjoin\u001b[0m\u001b[1;33m(\u001b[0m\u001b[0mdst\u001b[0m\u001b[1;33m,\u001b[0m \u001b[0mos\u001b[0m\u001b[1;33m.\u001b[0m\u001b[0mpath\u001b[0m\u001b[1;33m.\u001b[0m\u001b[0mbasename\u001b[0m\u001b[1;33m(\u001b[0m\u001b[0msrc\u001b[0m\u001b[1;33m)\u001b[0m\u001b[1;33m)\u001b[0m\u001b[1;33m\u001b[0m\u001b[1;33m\u001b[0m\u001b[0m\n\u001b[1;32m--> 444\u001b[1;33m     \u001b[0mcopyfile\u001b[0m\u001b[1;33m(\u001b[0m\u001b[0msrc\u001b[0m\u001b[1;33m,\u001b[0m \u001b[0mdst\u001b[0m\u001b[1;33m,\u001b[0m \u001b[0mfollow_symlinks\u001b[0m\u001b[1;33m=\u001b[0m\u001b[0mfollow_symlinks\u001b[0m\u001b[1;33m)\u001b[0m\u001b[1;33m\u001b[0m\u001b[1;33m\u001b[0m\u001b[0m\n\u001b[0m\u001b[0;32m    445\u001b[0m     \u001b[0mcopystat\u001b[0m\u001b[1;33m(\u001b[0m\u001b[0msrc\u001b[0m\u001b[1;33m,\u001b[0m \u001b[0mdst\u001b[0m\u001b[1;33m,\u001b[0m \u001b[0mfollow_symlinks\u001b[0m\u001b[1;33m=\u001b[0m\u001b[0mfollow_symlinks\u001b[0m\u001b[1;33m)\u001b[0m\u001b[1;33m\u001b[0m\u001b[1;33m\u001b[0m\u001b[0m\n\u001b[0;32m    446\u001b[0m     \u001b[1;32mreturn\u001b[0m \u001b[0mdst\u001b[0m\u001b[1;33m\u001b[0m\u001b[1;33m\u001b[0m\u001b[0m\n",
      "\u001b[1;32mC:\\Anaconda\\lib\\shutil.py\u001b[0m in \u001b[0;36mcopyfile\u001b[1;34m(src, dst, follow_symlinks)\u001b[0m\n\u001b[0;32m    262\u001b[0m         \u001b[0mos\u001b[0m\u001b[1;33m.\u001b[0m\u001b[0msymlink\u001b[0m\u001b[1;33m(\u001b[0m\u001b[0mos\u001b[0m\u001b[1;33m.\u001b[0m\u001b[0mreadlink\u001b[0m\u001b[1;33m(\u001b[0m\u001b[0msrc\u001b[0m\u001b[1;33m)\u001b[0m\u001b[1;33m,\u001b[0m \u001b[0mdst\u001b[0m\u001b[1;33m)\u001b[0m\u001b[1;33m\u001b[0m\u001b[1;33m\u001b[0m\u001b[0m\n\u001b[0;32m    263\u001b[0m     \u001b[1;32melse\u001b[0m\u001b[1;33m:\u001b[0m\u001b[1;33m\u001b[0m\u001b[1;33m\u001b[0m\u001b[0m\n\u001b[1;32m--> 264\u001b[1;33m         \u001b[1;32mwith\u001b[0m \u001b[0mopen\u001b[0m\u001b[1;33m(\u001b[0m\u001b[0msrc\u001b[0m\u001b[1;33m,\u001b[0m \u001b[1;34m'rb'\u001b[0m\u001b[1;33m)\u001b[0m \u001b[1;32mas\u001b[0m \u001b[0mfsrc\u001b[0m\u001b[1;33m:\u001b[0m\u001b[1;33m\u001b[0m\u001b[1;33m\u001b[0m\u001b[0m\n\u001b[0m\u001b[0;32m    265\u001b[0m             \u001b[1;32mtry\u001b[0m\u001b[1;33m:\u001b[0m\u001b[1;33m\u001b[0m\u001b[1;33m\u001b[0m\u001b[0m\n\u001b[0;32m    266\u001b[0m                 \u001b[1;32mwith\u001b[0m \u001b[0mopen\u001b[0m\u001b[1;33m(\u001b[0m\u001b[0mdst\u001b[0m\u001b[1;33m,\u001b[0m \u001b[1;34m'wb'\u001b[0m\u001b[1;33m)\u001b[0m \u001b[1;32mas\u001b[0m \u001b[0mfdst\u001b[0m\u001b[1;33m:\u001b[0m\u001b[1;33m\u001b[0m\u001b[1;33m\u001b[0m\u001b[0m\n",
      "\u001b[1;31mFileNotFoundError\u001b[0m: [Errno 2] No such file or directory: 'C:\\\\Users\\\\user\\\\section6\\\\tp2\\\\code_file\\\\datasets\\\\labels/C000002_003_0009_C_D_F_0.txt'"
     ]
    }
   ],
   "source": [
    "# label 파일 train, val, test 폴더로 나눠서 저장\n",
    "for video in tqdm(video_id):\n",
    "    if video in train:\n",
    "        shutil.move(new_path_cctv_label + '/' + video +'.txt',\n",
    "                   new_path_cctv_label + '/train/' + video + '.txt')\n",
    "    elif video in val:\n",
    "        shutil.move(new_path_cctv_label + '/' + video +'.txt',\n",
    "                   new_path_cctv_label + '/val/' + video + '.txt')\n",
    "    elif video in test:\n",
    "        shutil.move(new_path_cctv_label + '/' + video +'.txt',\n",
    "                   new_path_cctv_label + '/test/' + video + '.txt')\n",
    "    else:\n",
    "        # 있지는 않지만 혹시 모르니 프린트\n",
    "        print(video)"
   ]
  },
  {
   "cell_type": "markdown",
   "id": "cca2a92f",
   "metadata": {},
   "source": [
    "# 해상도 변경 후 각 해상도 변경 폴더에 넣기"
   ]
  },
  {
   "cell_type": "code",
   "execution_count": 11,
   "id": "21b73112",
   "metadata": {},
   "outputs": [],
   "source": [
    "# 이미지 해상도 변경 폴더 위치\n",
    "path_640_image = 'C:\\\\Users\\\\user\\\\section6\\\\tp2\\\\code_file\\\\datasets_640\\\\images'\n",
    "\n",
    "# 라벨 해상도 변경 폴더 위치\n",
    "path_640_label = 'C:\\\\Users\\\\user\\\\section6\\\\tp2\\\\code_file\\\\datasets_640\\\\labels'"
   ]
  },
  {
   "cell_type": "code",
   "execution_count": 25,
   "id": "67cd7059",
   "metadata": {},
   "outputs": [
    {
     "name": "stderr",
     "output_type": "stream",
     "text": [
      "100%|████████████████████████████████████████████████████████████████████████████| 26671/26671 [18:55<00:00, 23.50it/s]\n"
     ]
    }
   ],
   "source": [
    "# 이미지 해상도 변경\n",
    "for video in tqdm(video_id):\n",
    "    img = cv2.imread(path_cctv_image + '/' + video + '.jpg')\n",
    "    img_resize = cv2.resize(img, dsize=(640, 640), interpolation=cv2.INTER_AREA)\n",
    "    \"\"\"\n",
    "    cv2.resize 파리미터 \n",
    "    src: 원본 이미지\n",
    "    dsize: 해상도. (가로,세로) 형태로 값을 지정. 꼭 소괄호 형태로 지정.\n",
    "    fx: 가로 확대.축소 비율 설정 0.5면 가로가 절반으로 줄어듬\n",
    "    fy: 세로 확대.축소 비율 설정\n",
    "    interpolation : 사전적 의미로는 보간법이라고 하는데 이미지 크기가 바뀌면서 생기는 문제를 해결하기 위한 방법\n",
    "        cv2.INTER_NEAREST : 인접한 픽셀들의 정보 이용\n",
    "        cv2.INTER_LINEAR : 쌍선형 보간법 이용\n",
    "        cv2.INTER_AREA : pixel area relation을 이용하여 resampling\n",
    "        cv2.INTER_CUBIC: 4x4 픽셀 이웃들을 이용\n",
    "        cv2.INTER_LANCZOS4: 8x8 픽셀 이웃들을 이용\n",
    "    \"\"\"\n",
    "    if video in train:\n",
    "        cv2.imwrite(path_640_image + '/train/' + video + '.jpg', img_resize)\n",
    "    elif video in val:\n",
    "        cv2.imwrite(path_640_image + '/val/' + video + '.jpg', img_resize)\n",
    "    elif video in test:\n",
    "        cv2.imwrite(path_640_image + '/test/' + video + '.jpg', img_resize)\n",
    "    else:\n",
    "        # 있지는 않지만 혹시 모르니 프린트\n",
    "        print(video)\n",
    "        \n",
    "    # 약 15 ~ 20 분 소요    \n",
    "    # train : 21336, val : 4001, test : 1334 데이터 개수 확인 "
   ]
  },
  {
   "cell_type": "code",
   "execution_count": 12,
   "id": "5be6ac6b",
   "metadata": {},
   "outputs": [],
   "source": [
    "def change_label_640(j_data, v_name, cate, path=path_640_label):\n",
    "    \"\"\"\n",
    "    change_label_640 : 라벨링 데이터 수정 (0~1로 정규화 진행) \n",
    "                       및 txt 파일로 저장\n",
    "    j_data : json file,\n",
    "    v_name : video_name\n",
    "    cate : train, val, test 종류,\n",
    "    path : 640 라벨 데이터 위치\n",
    "    \"\"\"\n",
    "    with open(path + '/' + cate + '/' + v_name + '.txt', \"w+\") as f_txt:\n",
    "        \n",
    "        for i in range(len(j_data['annotations']['PM'])):\n",
    "            pm_code = int(j_data['annotations']['PM'][i]['PM_code']) - 13\n",
    "            if pm_code >= 0 and pm_code <= 6:\n",
    "                # 정규화 코드 \n",
    "                width = j_data['annotations']['PM'][i]['points'][2] / 1920\n",
    "                height = j_data['annotations']['PM'][i]['points'][3] / 1080\n",
    "                x = (j_data['annotations']['PM'][i]['points'][0] + j_data['annotations']['PM'][i]['points'][2]/2) / 1920\n",
    "                y = (j_data['annotations']['PM'][i]['points'][1] + j_data['annotations']['PM'][i]['points'][3]/2) / 1080  \n",
    "                new_line = f'{pm_code} {x} {y} {width} {height}'\n",
    "                \n",
    "                f_txt.write(new_line)\n",
    "                f_txt.write('\\n')"
   ]
  },
  {
   "cell_type": "code",
   "execution_count": 13,
   "id": "c23e25c1",
   "metadata": {},
   "outputs": [
    {
     "name": "stderr",
     "output_type": "stream",
     "text": [
      "100%|████████████████████████████████████████████████████████████████████████████| 26671/26671 [05:30<00:00, 80.75it/s]\n"
     ]
    }
   ],
   "source": [
    "# cctv label 데이터 640 형식으로 수정\n",
    "for video in tqdm(video_id):\n",
    "    with open(path_cctv_label + '/' + video + '.json', encoding = 'utf-8') as f:\n",
    "        data = json.load(f)\n",
    "\n",
    "    # new_path에 txt 파일 형식으로 저장 \n",
    "    if video in train:\n",
    "        change_label_640(j_data=data, v_name=video, cate='train')\n",
    "    elif video in val:\n",
    "        change_label_640(j_data=data, v_name=video, cate='val')\n",
    "    elif video in test:\n",
    "        change_label_640(j_data=data, v_name=video, cate='test')\n",
    "    else:\n",
    "        print(video)\n",
    "        \n",
    "    # train : 21336, val : 4001, test : 1334 데이터 개수 확인 "
   ]
  },
  {
   "cell_type": "markdown",
   "id": "e0af7a32",
   "metadata": {},
   "source": [
    "# 흑백 이미지 변경 후 흑백 폴더에 넣기"
   ]
  },
  {
   "cell_type": "code",
   "execution_count": 12,
   "id": "8d1e9b21",
   "metadata": {},
   "outputs": [],
   "source": [
    "# 흑백 이미지 변경 폴더 위치\n",
    "path_black = 'C:\\\\Users\\\\user\\\\section6\\\\tp2\\\\code_file\\\\datasets_640_black'\n",
    "path_black_image = path_black + '\\\\images'\n",
    "path_black_labels = path_black + '\\\\labels'"
   ]
  },
  {
   "cell_type": "code",
   "execution_count": 18,
   "id": "a0e1f5dd",
   "metadata": {},
   "outputs": [
    {
     "name": "stderr",
     "output_type": "stream",
     "text": [
      "100%|████████████████████████████████████████████████████████████████████████████| 26671/26671 [14:31<00:00, 30.62it/s]\n"
     ]
    }
   ],
   "source": [
    "for video in tqdm(video_id):\n",
    "    # gray scale로 불러오기\n",
    "    img = cv2.imread(path_cctv_image + '/' + video + '.jpg', \n",
    "                     cv2.IMREAD_GRAYSCALE)\n",
    "    # 사이즈 재조정 \n",
    "    img_resize = cv2.resize(img, dsize=(640, 640), \n",
    "                            interpolation=cv2.INTER_AREA)\n",
    "    \n",
    "    if video in train:\n",
    "        cv2.imwrite(path_black_image + '/train/' + video + '.jpg', img_resize)\n",
    "    elif video in val:\n",
    "        cv2.imwrite(path_black_image + '/val/' + video + '.jpg', img_resize)\n",
    "    elif video in test:\n",
    "        cv2.imwrite(path_black_image + '/test/' + video + '.jpg', img_resize)\n",
    "    else:\n",
    "        # 있지는 않지만 혹시 모르니 프린트\n",
    "        print(video)"
   ]
  },
  {
   "cell_type": "code",
   "execution_count": 15,
   "id": "95346632",
   "metadata": {},
   "outputs": [
    {
     "name": "stdout",
     "output_type": "stream",
     "text": [
      "0.11353190636435487 0.14467640232388368 0.19881898263070003 0.5663092663172345\n",
      "(90, 316) (163, 408)\n"
     ]
    }
   ],
   "source": [
    "# Test\n",
    "\n",
    "test_video_id = video_id[120]\n",
    "\n",
    "test_img = cv2.imread(path_cctv_image + '/' + test_video_id + '.jpg')\n",
    "test_img = cv2.resize(test_img, dsize=(640, 640),\n",
    "                     interpolation=cv2.INTER_AREA)\n",
    "\n",
    "with open(path_cctv_label + '/' + test_video_id + '.json', encoding = 'utf-8') as f:\n",
    "    data = json.load(f)\n",
    "    \n",
    "    for i in range(len(data['annotations']['PM'])):\n",
    "        pm_code = int(data['annotations']['PM'][i]['PM_code']) - 13\n",
    "        if pm_code >= 0 and pm_code <= 6:\n",
    "            # 정규화 코드 \n",
    "            width = data['annotations']['PM'][i]['points'][2] / 1920\n",
    "            height = data['annotations']['PM'][i]['points'][3] / 1080\n",
    "            x = (data['annotations']['PM'][i]['points'][0] + data['annotations']['PM'][i]['points'][2]/2) / 1920\n",
    "            y = (data['annotations']['PM'][i]['points'][1] + data['annotations']['PM'][i]['points'][3]/2) / 1080\n",
    "            \n",
    "\n",
    "print(width, height, x, y)\n",
    "pt1 = (int((x - width/2)*640), int((y - height/2)*640))\n",
    "pt2 = (int((x + width/2)*640), int((y + height/2)*640))\n",
    "\n",
    "print(pt1, pt2)\n",
    "red_colr = (0,0,255)\n",
    "\n",
    "test_img = cv2.rectangle(test_img, pt1, pt2, red_colr, 3)\n",
    "\n",
    "cv2.imshow('retanle', test_img)\n",
    "cv2.waitKey(0)\n",
    "cv2.destroyAllWindows()"
   ]
  },
  {
   "cell_type": "code",
   "execution_count": null,
   "id": "0313e94c",
   "metadata": {},
   "outputs": [],
   "source": []
  }
 ],
 "metadata": {
  "kernelspec": {
   "display_name": "Python 3 (ipykernel)",
   "language": "python",
   "name": "python3"
  },
  "language_info": {
   "codemirror_mode": {
    "name": "ipython",
    "version": 3
   },
   "file_extension": ".py",
   "mimetype": "text/x-python",
   "name": "python",
   "nbconvert_exporter": "python",
   "pygments_lexer": "ipython3",
   "version": "3.9.13"
  }
 },
 "nbformat": 4,
 "nbformat_minor": 5
}
